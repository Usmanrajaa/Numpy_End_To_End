{
 "cells": [
  {
   "cell_type": "code",
   "execution_count": 76,
   "id": "595ad17a",
   "metadata": {},
   "outputs": [],
   "source": [
    "import numpy as np\n",
    "from datetime import datetime"
   ]
  },
  {
   "cell_type": "code",
   "execution_count": 77,
   "id": "60d20e3b",
   "metadata": {},
   "outputs": [],
   "source": [
    "x1=np.array([4,5,6,7,8],dtype='int64')\n",
    "x2=np.array(['a','b','c','d','e'])\n",
    "x3=np.array([True,False,False,True,True])\n",
    "x4=np.array([1.2,3.4,6.8,9.1,5.6])\n",
    "x5=np.array([\n",
    "    datetime(2020,3,12),\n",
    "    datetime(2021,4,13),\n",
    "    datetime(2022,5,15),\n",
    "    datetime(2023,6,18),\n",
    "    datetime(2025,9,23)\n",
    "])"
   ]
  },
  {
   "cell_type": "code",
   "execution_count": 78,
   "id": "1f027b2e",
   "metadata": {},
   "outputs": [
    {
     "name": "stdout",
     "output_type": "stream",
     "text": [
      "int64\n",
      "<U1\n",
      "bool\n",
      "float64\n",
      "object\n"
     ]
    }
   ],
   "source": [
    "print(x1.dtype)\n",
    "print(x2.dtype)\n",
    "print(x3.dtype)\n",
    "print(x4.dtype)\n",
    "print(x5.dtype)"
   ]
  },
  {
   "cell_type": "code",
   "execution_count": 79,
   "id": "71506a0b",
   "metadata": {},
   "outputs": [],
   "source": [
    "x1=x1.astype('int32')"
   ]
  },
  {
   "cell_type": "code",
   "execution_count": 80,
   "id": "3699ab6d",
   "metadata": {},
   "outputs": [
    {
     "data": {
      "text/plain": [
       "array([4, 5, 6, 7, 8], dtype=int32)"
      ]
     },
     "execution_count": 80,
     "metadata": {},
     "output_type": "execute_result"
    }
   ],
   "source": [
    "x1"
   ]
  },
  {
   "cell_type": "code",
   "execution_count": 81,
   "id": "329794d4",
   "metadata": {},
   "outputs": [
    {
     "data": {
      "text/plain": [
       "dtype('int32')"
      ]
     },
     "execution_count": 81,
     "metadata": {},
     "output_type": "execute_result"
    }
   ],
   "source": [
    "x1.dtype"
   ]
  },
  {
   "cell_type": "code",
   "execution_count": 83,
   "id": "04107c40",
   "metadata": {},
   "outputs": [],
   "source": [
    "x,y=np.unique(x2,return_inverse=True)"
   ]
  },
  {
   "cell_type": "code",
   "execution_count": 84,
   "id": "dfb3bf2b",
   "metadata": {},
   "outputs": [
    {
     "data": {
      "text/plain": [
       "array(['a', 'b', 'c', 'd', 'e'], dtype='<U1')"
      ]
     },
     "execution_count": 84,
     "metadata": {},
     "output_type": "execute_result"
    }
   ],
   "source": [
    "x"
   ]
  },
  {
   "cell_type": "code",
   "execution_count": 92,
   "id": "c530b1b3",
   "metadata": {},
   "outputs": [
    {
     "data": {
      "text/plain": [
       "array([0, 1, 2, 3, 4])"
      ]
     },
     "execution_count": 92,
     "metadata": {},
     "output_type": "execute_result"
    }
   ],
   "source": [
    "y"
   ]
  },
  {
   "cell_type": "code",
   "execution_count": 86,
   "id": "0c384b24",
   "metadata": {},
   "outputs": [],
   "source": [
    "x3=x3.astype('int32')"
   ]
  },
  {
   "cell_type": "code",
   "execution_count": 87,
   "id": "954bca9f",
   "metadata": {},
   "outputs": [
    {
     "data": {
      "text/plain": [
       "array([1, 0, 0, 1, 1], dtype=int32)"
      ]
     },
     "execution_count": 87,
     "metadata": {},
     "output_type": "execute_result"
    }
   ],
   "source": [
    "x3"
   ]
  },
  {
   "cell_type": "code",
   "execution_count": 88,
   "id": "8f44dac6",
   "metadata": {},
   "outputs": [
    {
     "data": {
      "text/plain": [
       "dtype('float64')"
      ]
     },
     "execution_count": 88,
     "metadata": {},
     "output_type": "execute_result"
    }
   ],
   "source": [
    "x4.dtype"
   ]
  },
  {
   "cell_type": "code",
   "execution_count": 93,
   "id": "cad94aa7",
   "metadata": {},
   "outputs": [],
   "source": [
    "x4=x4.astype('float32')"
   ]
  },
  {
   "cell_type": "code",
   "execution_count": 94,
   "id": "35557afe",
   "metadata": {},
   "outputs": [
    {
     "data": {
      "text/plain": [
       "dtype('float32')"
      ]
     },
     "execution_count": 94,
     "metadata": {},
     "output_type": "execute_result"
    }
   ],
   "source": [
    "x4.dtype"
   ]
  },
  {
   "cell_type": "code",
   "execution_count": 95,
   "id": "e837eb20",
   "metadata": {},
   "outputs": [],
   "source": [
    "x5=np.array([(i - datetime(1970, 1, 1)).days for i in x5], dtype='int32')\n"
   ]
  },
  {
   "cell_type": "code",
   "execution_count": 96,
   "id": "410135bc",
   "metadata": {},
   "outputs": [
    {
     "data": {
      "text/plain": [
       "array([18333, 18730, 19127, 19526, 20354], dtype=int32)"
      ]
     },
     "execution_count": 96,
     "metadata": {},
     "output_type": "execute_result"
    }
   ],
   "source": [
    "x5"
   ]
  },
  {
   "cell_type": "code",
   "execution_count": 99,
   "id": "74c5ecee",
   "metadata": {},
   "outputs": [],
   "source": [
    "final_data=np.stack((x1,y,x3,x4,x5))"
   ]
  },
  {
   "cell_type": "code",
   "execution_count": 100,
   "id": "3e8f71f1",
   "metadata": {},
   "outputs": [
    {
     "data": {
      "text/plain": [
       "array([[4.00000000e+00, 5.00000000e+00, 6.00000000e+00, 7.00000000e+00,\n",
       "        8.00000000e+00],\n",
       "       [0.00000000e+00, 1.00000000e+00, 2.00000000e+00, 3.00000000e+00,\n",
       "        4.00000000e+00],\n",
       "       [1.00000000e+00, 0.00000000e+00, 0.00000000e+00, 1.00000000e+00,\n",
       "        1.00000000e+00],\n",
       "       [1.20000005e+00, 3.40000010e+00, 6.80000019e+00, 9.10000038e+00,\n",
       "        5.59999990e+00],\n",
       "       [1.83330000e+04, 1.87300000e+04, 1.91270000e+04, 1.95260000e+04,\n",
       "        2.03540000e+04]])"
      ]
     },
     "execution_count": 100,
     "metadata": {},
     "output_type": "execute_result"
    }
   ],
   "source": [
    "final_data"
   ]
  },
  {
   "cell_type": "code",
   "execution_count": 102,
   "id": "50a9c899",
   "metadata": {},
   "outputs": [
    {
     "data": {
      "text/plain": [
       "2"
      ]
     },
     "execution_count": 102,
     "metadata": {},
     "output_type": "execute_result"
    }
   ],
   "source": [
    "final_data.ndim"
   ]
  },
  {
   "cell_type": "code",
   "execution_count": null,
   "id": "78996f56",
   "metadata": {},
   "outputs": [],
   "source": []
  }
 ],
 "metadata": {
  "kernelspec": {
   "display_name": "Python 3",
   "language": "python",
   "name": "python3"
  },
  "language_info": {
   "codemirror_mode": {
    "name": "ipython",
    "version": 3
   },
   "file_extension": ".py",
   "mimetype": "text/x-python",
   "name": "python",
   "nbconvert_exporter": "python",
   "pygments_lexer": "ipython3",
   "version": "3.12.10"
  }
 },
 "nbformat": 4,
 "nbformat_minor": 5
}
