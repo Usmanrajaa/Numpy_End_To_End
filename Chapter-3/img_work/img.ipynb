{
 "cells": [
  {
   "cell_type": "code",
   "execution_count": 3,
   "id": "1a9dae2b",
   "metadata": {},
   "outputs": [
    {
     "name": "stdout",
     "output_type": "stream",
     "text": [
      "Requirement already satisfied: pillow in c:\\users\\hp\\appdata\\local\\programs\\python\\python312\\lib\\site-packages (11.3.0)\n",
      "Note: you may need to restart the kernel to use updated packages.\n"
     ]
    },
    {
     "name": "stderr",
     "output_type": "stream",
     "text": [
      "\n",
      "[notice] A new release of pip is available: 25.0.1 -> 25.1.1\n",
      "[notice] To update, run: python.exe -m pip install --upgrade pip\n"
     ]
    }
   ],
   "source": [
    "pip install pillow"
   ]
  },
  {
   "cell_type": "code",
   "execution_count": 2,
   "id": "83afa2f0",
   "metadata": {},
   "outputs": [],
   "source": [
    "from PIL import Image"
   ]
  },
  {
   "cell_type": "code",
   "execution_count": 6,
   "id": "4513b6de",
   "metadata": {},
   "outputs": [],
   "source": [
    "img=Image.open(\"agent_ai.webp\")"
   ]
  },
  {
   "cell_type": "code",
   "execution_count": 7,
   "id": "862971c4",
   "metadata": {},
   "outputs": [
    {
     "data": {
      "text/plain": [
       "(1024, 1024)"
      ]
     },
     "execution_count": 7,
     "metadata": {},
     "output_type": "execute_result"
    }
   ],
   "source": [
    "img.size"
   ]
  },
  {
   "cell_type": "code",
   "execution_count": 8,
   "id": "0ac3bb65",
   "metadata": {},
   "outputs": [
    {
     "data": {
      "text/plain": [
       "'RGB'"
      ]
     },
     "execution_count": 8,
     "metadata": {},
     "output_type": "execute_result"
    }
   ],
   "source": [
    "img.mode"
   ]
  },
  {
   "cell_type": "code",
   "execution_count": 11,
   "id": "a5e5e4e1",
   "metadata": {},
   "outputs": [],
   "source": [
    "import numpy as np"
   ]
  },
  {
   "cell_type": "code",
   "execution_count": 25,
   "id": "121f91b1",
   "metadata": {},
   "outputs": [],
   "source": [
    "img_array=np.array(img)"
   ]
  },
  {
   "cell_type": "code",
   "execution_count": 26,
   "id": "d743ffd4",
   "metadata": {},
   "outputs": [
    {
     "data": {
      "text/plain": [
       "array([[[ 0, 19, 43],\n",
       "        [ 0, 19, 43],\n",
       "        [ 0, 19, 43],\n",
       "        ...,\n",
       "        [ 0, 19, 43],\n",
       "        [ 0, 19, 43],\n",
       "        [ 0, 19, 43]],\n",
       "\n",
       "       [[ 0, 19, 43],\n",
       "        [ 0, 19, 43],\n",
       "        [ 0, 19, 43],\n",
       "        ...,\n",
       "        [ 0, 19, 43],\n",
       "        [ 0, 19, 43],\n",
       "        [ 0, 19, 43]],\n",
       "\n",
       "       [[ 0, 19, 43],\n",
       "        [ 0, 19, 43],\n",
       "        [ 0, 19, 43],\n",
       "        ...,\n",
       "        [ 0, 19, 43],\n",
       "        [ 0, 19, 43],\n",
       "        [ 0, 19, 43]],\n",
       "\n",
       "       ...,\n",
       "\n",
       "       [[ 0, 26, 51],\n",
       "        [ 0, 26, 51],\n",
       "        [ 0, 26, 51],\n",
       "        ...,\n",
       "        [ 0, 26, 49],\n",
       "        [ 0, 26, 49],\n",
       "        [ 0, 26, 49]],\n",
       "\n",
       "       [[ 0, 26, 51],\n",
       "        [ 0, 26, 51],\n",
       "        [ 0, 26, 51],\n",
       "        ...,\n",
       "        [ 0, 26, 49],\n",
       "        [ 0, 26, 49],\n",
       "        [ 0, 26, 49]],\n",
       "\n",
       "       [[ 0, 26, 51],\n",
       "        [ 0, 26, 51],\n",
       "        [ 0, 26, 51],\n",
       "        ...,\n",
       "        [ 0, 26, 49],\n",
       "        [ 0, 26, 49],\n",
       "        [ 0, 26, 49]]], shape=(1024, 1024, 3), dtype=uint8)"
      ]
     },
     "execution_count": 26,
     "metadata": {},
     "output_type": "execute_result"
    }
   ],
   "source": [
    "img_array"
   ]
  },
  {
   "cell_type": "code",
   "execution_count": 14,
   "id": "06719dbc",
   "metadata": {},
   "outputs": [
    {
     "data": {
      "text/plain": [
       "dtype('uint8')"
      ]
     },
     "execution_count": 14,
     "metadata": {},
     "output_type": "execute_result"
    }
   ],
   "source": [
    "img_array.dtype"
   ]
  },
  {
   "cell_type": "code",
   "execution_count": 22,
   "id": "ec292b44",
   "metadata": {},
   "outputs": [],
   "source": [
    "img_array1=np.astype(img_array,'int32')"
   ]
  },
  {
   "cell_type": "code",
   "execution_count": 28,
   "id": "1ee1bdfd",
   "metadata": {},
   "outputs": [],
   "source": [
    "img3=Image.fromarray(img_array)"
   ]
  },
  {
   "cell_type": "code",
   "execution_count": 30,
   "id": "44d393b3",
   "metadata": {},
   "outputs": [],
   "source": [
    "img3.save(\"output.jpg\")\n"
   ]
  },
  {
   "cell_type": "code",
   "execution_count": 32,
   "id": "72a2df2c",
   "metadata": {},
   "outputs": [],
   "source": [
    "img4=img3.convert('L')"
   ]
  },
  {
   "cell_type": "code",
   "execution_count": 39,
   "id": "473d2177",
   "metadata": {},
   "outputs": [
    {
     "data": {
      "text/plain": [
       "(1024, 1024)"
      ]
     },
     "execution_count": 39,
     "metadata": {},
     "output_type": "execute_result"
    }
   ],
   "source": [
    "img4.size"
   ]
  },
  {
   "cell_type": "code",
   "execution_count": 33,
   "id": "0127710c",
   "metadata": {},
   "outputs": [
    {
     "data": {
      "text/plain": [
       "(1024, 1024)"
      ]
     },
     "execution_count": 33,
     "metadata": {},
     "output_type": "execute_result"
    }
   ],
   "source": [
    "img4.size"
   ]
  },
  {
   "cell_type": "code",
   "execution_count": 34,
   "id": "e96ee355",
   "metadata": {},
   "outputs": [
    {
     "data": {
      "text/plain": [
       "'L'"
      ]
     },
     "execution_count": 34,
     "metadata": {},
     "output_type": "execute_result"
    }
   ],
   "source": [
    "img4.mode"
   ]
  },
  {
   "cell_type": "code",
   "execution_count": 36,
   "id": "f36f41c5",
   "metadata": {},
   "outputs": [
    {
     "data": {
      "text/plain": [
       "array([[16, 16, 16, ..., 16, 16, 16],\n",
       "       [16, 16, 16, ..., 16, 16, 16],\n",
       "       [16, 16, 16, ..., 16, 16, 16],\n",
       "       ...,\n",
       "       [21, 21, 21, ..., 21, 21, 21],\n",
       "       [21, 21, 21, ..., 21, 21, 21],\n",
       "       [21, 21, 21, ..., 21, 21, 21]], shape=(1024, 1024), dtype=uint8)"
      ]
     },
     "execution_count": 36,
     "metadata": {},
     "output_type": "execute_result"
    }
   ],
   "source": [
    "np.array(img4)"
   ]
  },
  {
   "cell_type": "markdown",
   "id": "cf26cb3f",
   "metadata": {},
   "source": [
    "# 2. Image formatting"
   ]
  },
  {
   "cell_type": "code",
   "execution_count": 41,
   "id": "d5c0ee60",
   "metadata": {},
   "outputs": [],
   "source": [
    "img5=img4.resize((212,212))"
   ]
  },
  {
   "cell_type": "code",
   "execution_count": 50,
   "id": "404c9862",
   "metadata": {},
   "outputs": [
    {
     "data": {
      "image/jpeg": "[encoded data removed]",
      "image/png": "[encoded data removed]",
      "text/plain": [
       "<PIL.Image.Image image mode=L size=50x100>"
      ]
     },
     "execution_count": 50,
     "metadata": {},
     "output_type": "execute_result"
    }
   ],
   "source": [
    "img4.crop((150,50,200,150))"
   ]
  },
  {
   "cell_type": "code",
   "execution_count": 57,
   "id": "f5459c83",
   "metadata": {},
   "outputs": [
    {
     "data": {
      "image/jpeg": "[encoded data removed]",
      "image/png": "[encoded data removed]",
      "text/plain": [
       "<PIL.Image.Image image mode=L size=212x212>"
      ]
     },
     "execution_count": 57,
     "metadata": {},
     "output_type": "execute_result"
    }
   ],
   "source": [
    "img5.rotate(90)"
   ]
  },
  {
   "cell_type": "code",
   "execution_count": null,
   "id": "4dfc2d78",
   "metadata": {},
   "outputs": [],
   "source": []
  }
 ],
 "metadata": {
  "kernelspec": {
   "display_name": "Python 3",
   "language": "python",
   "name": "python3"
  },
  "language_info": {
   "codemirror_mode": {
    "name": "ipython",
    "version": 3
   },
   "file_extension": ".py",
   "mimetype": "text/x-python",
   "name": "python",
   "nbconvert_exporter": "python",
   "pygments_lexer": "ipython3",
   "version": "3.12.10"
  }
 },
 "nbformat": 4,
 "nbformat_minor": 5
}
