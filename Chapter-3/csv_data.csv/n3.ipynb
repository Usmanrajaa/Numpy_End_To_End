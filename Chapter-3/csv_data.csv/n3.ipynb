{
 "cells": [
  {
   "cell_type": "markdown",
   "id": "d8d44390",
   "metadata": {},
   "source": [
    "# 1. Work on CSV data"
   ]
  },
  {
   "cell_type": "code",
   "execution_count": 3,
   "id": "4162a042",
   "metadata": {},
   "outputs": [],
   "source": [
    "import numpy as np"
   ]
  },
  {
   "cell_type": "code",
   "execution_count": 4,
   "id": "26555693",
   "metadata": {},
   "outputs": [],
   "source": [
    "f1=np.genfromtxt(\"p1.csv\",delimiter=\",\")"
   ]
  },
  {
   "cell_type": "code",
   "execution_count": 5,
   "id": "4fef1460",
   "metadata": {},
   "outputs": [
    {
     "data": {
      "text/plain": [
       "dtype('float64')"
      ]
     },
     "execution_count": 5,
     "metadata": {},
     "output_type": "execute_result"
    }
   ],
   "source": [
    "f1.dtype"
   ]
  },
  {
   "cell_type": "code",
   "execution_count": 6,
   "id": "4dea8c37",
   "metadata": {},
   "outputs": [
    {
     "data": {
      "text/plain": [
       "array([ 1.,  3.,  4.,  5.,  6.,  7.,  8.,  9., 10.])"
      ]
     },
     "execution_count": 6,
     "metadata": {},
     "output_type": "execute_result"
    }
   ],
   "source": [
    "f1"
   ]
  },
  {
   "cell_type": "code",
   "execution_count": 7,
   "id": "259bd164",
   "metadata": {},
   "outputs": [],
   "source": [
    "f2=np.genfromtxt(\"p2.csv\",delimiter=\",\")"
   ]
  },
  {
   "cell_type": "code",
   "execution_count": 8,
   "id": "bb6983ba",
   "metadata": {},
   "outputs": [
    {
     "data": {
      "text/plain": [
       "array([[1., 3., 4., 5.],\n",
       "       [3., 5., 8., 7.],\n",
       "       [4., 5., 9., 0.]])"
      ]
     },
     "execution_count": 8,
     "metadata": {},
     "output_type": "execute_result"
    }
   ],
   "source": [
    "f2"
   ]
  },
  {
   "cell_type": "code",
   "execution_count": 9,
   "id": "6c7a85f5",
   "metadata": {},
   "outputs": [
    {
     "data": {
      "text/plain": [
       "dtype('float64')"
      ]
     },
     "execution_count": 9,
     "metadata": {},
     "output_type": "execute_result"
    }
   ],
   "source": [
    "f2.dtype"
   ]
  },
  {
   "cell_type": "code",
   "execution_count": 15,
   "id": "35a50cfd",
   "metadata": {},
   "outputs": [],
   "source": [
    "f2=np.genfromtxt(\"p2.csv\",delimiter=\",\")"
   ]
  },
  {
   "cell_type": "code",
   "execution_count": 14,
   "id": "ab4419bb",
   "metadata": {},
   "outputs": [],
   "source": [
    "f3=np.genfromtxt(\"p3.csv\",delimiter=\",\",filling_values=0)"
   ]
  },
  {
   "cell_type": "code",
   "execution_count": 16,
   "id": "d52ebbdc",
   "metadata": {},
   "outputs": [
    {
     "data": {
      "text/plain": [
       "array([[1., 3., 4., 5.],\n",
       "       [3., 5., 0., 7.],\n",
       "       [4., 0., 9., 0.]])"
      ]
     },
     "execution_count": 16,
     "metadata": {},
     "output_type": "execute_result"
    }
   ],
   "source": [
    "f3"
   ]
  },
  {
   "cell_type": "code",
   "execution_count": 19,
   "id": "642a913e",
   "metadata": {},
   "outputs": [
    {
     "data": {
      "text/plain": [
       "array([ 8.,  8., 13., 12.])"
      ]
     },
     "execution_count": 19,
     "metadata": {},
     "output_type": "execute_result"
    }
   ],
   "source": [
    "np.sum(f3,axis=0)"
   ]
  },
  {
   "cell_type": "code",
   "execution_count": 25,
   "id": "32b7cde7",
   "metadata": {},
   "outputs": [
    {
     "data": {
      "text/plain": [
       "array([[1., 3., 4., 5.],\n",
       "       [3., 5., 9., 7.],\n",
       "       [4., 6., 9., 0.]])"
      ]
     },
     "execution_count": 25,
     "metadata": {},
     "output_type": "execute_result"
    }
   ],
   "source": [
    "np.genfromtxt(\"p4.csv\",delimiter=\",\",skip_header=1)"
   ]
  },
  {
   "cell_type": "code",
   "execution_count": null,
   "id": "23f9c469",
   "metadata": {},
   "outputs": [],
   "source": []
  }
 ],
 "metadata": {
  "kernelspec": {
   "display_name": "Python 3",
   "language": "python",
   "name": "python3"
  },
  "language_info": {
   "codemirror_mode": {
    "name": "ipython",
    "version": 3
   },
   "file_extension": ".py",
   "mimetype": "text/x-python",
   "name": "python",
   "nbconvert_exporter": "python",
   "pygments_lexer": "ipython3",
   "version": "3.12.10"
  }
 },
 "nbformat": 4,
 "nbformat_minor": 5
}
